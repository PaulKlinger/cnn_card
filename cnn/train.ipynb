{
 "cells": [
  {
   "cell_type": "markdown",
   "metadata": {},
   "source": [
    "# import numpy as np\n",
    "import pandas as pd\n",
    "import tensorflow as tf\n",
    "import skimage.transform\n",
    "import matplotlib.pyplot as plt\n",
    "\n",
    "import itertools\n",
    "from typing import Tuple"
   ]
  },
  {
   "cell_type": "code",
   "execution_count": 2,
   "metadata": {},
   "outputs": [],
   "source": [
    "model = tf.keras.models.load_model(\"5x5_4-8-16_filters.savedmodel/\")"
   ]
  },
  {
   "cell_type": "code",
   "execution_count": 3,
   "metadata": {},
   "outputs": [
    {
     "data": {
      "image/png": "[encoded data removed]",
      "text/plain": [
       "<IPython.core.display.Image object>"
      ]
     },
     "execution_count": 3,
     "metadata": {},
     "output_type": "execute_result"
    }
   ],
   "source": [
    "tf.keras.utils.plot_model(model)"
   ]
  },
  {
   "cell_type": "code",
   "execution_count": 4,
   "metadata": {},
   "outputs": [
    {
     "name": "stdout",
     "output_type": "stream",
     "text": [
      "Model: \"sequential_10\"\n",
      "_________________________________________________________________\n",
      "Layer (type)                 Output Shape              Param #   \n",
      "=================================================================\n",
      "conv2d_30 (Conv2D)           (None, 4, 4, 4)           20        \n",
      "_________________________________________________________________\n",
      "conv2d_31 (Conv2D)           (None, 3, 3, 8)           136       \n",
      "_________________________________________________________________\n",
      "conv2d_32 (Conv2D)           (None, 2, 2, 16)          528       \n",
      "_________________________________________________________________\n",
      "global_max_pooling2d_9 (Glob (None, 16)                0         \n",
      "_________________________________________________________________\n",
      "dense_11 (Dense)             (None, 10)                170       \n",
      "=================================================================\n",
      "Total params: 854\n",
      "Trainable params: 854\n",
      "Non-trainable params: 0\n",
      "_________________________________________________________________\n"
     ]
    }
   ],
   "source": [
    "model.summary()"
   ]
  },
  {
   "cell_type": "code",
   "execution_count": 2,
   "metadata": {},
   "outputs": [
    {
     "data": {
      "text/plain": [
       "True"
      ]
     },
     "execution_count": 2,
     "metadata": {},
     "output_type": "execute_result"
    }
   ],
   "source": [
    "tf.test.is_gpu_available()"
   ]
  },
  {
   "cell_type": "code",
   "execution_count": 3,
   "metadata": {},
   "outputs": [
    {
     "name": "stdout",
     "output_type": "stream",
     "text": [
      "0 3 3.........\n",
      "0 3 3.........\n",
      "0 4 4....\n",
      "0 3 4......\n",
      "0 3 4......\n",
      "0 3 4......\n",
      "0 3 5...\n",
      "0 4 4....\n",
      "0 4 5..\n",
      "0 4 4....\n",
      "0 4 5..\n",
      "0 5 5.\n",
      "1 1 5.....\n",
      "1 1 4..........\n",
      "1 1 3...............\n",
      "1 3 3.........\n",
      "1 2 4........\n",
      "1 3 4......\n",
      "1 3 4......\n",
      "1 3 5...\n",
      "1 3 4......\n",
      "1 3 4......\n",
      "2 5 5.\n",
      "2 3 3.........\n",
      "2 3 5...\n",
      "2 5 5.\n",
      "2 4 5..\n",
      "2 5 5.\n",
      "2 5 5.\n",
      "2 5 5.\n",
      "2 3 4......\n",
      "2 3 4......\n",
      "2 3 5...\n",
      "2 3 4......\n",
      "3 3 3.........\n",
      "3 4 5..\n",
      "3 4 5..\n",
      "3 4 5..\n",
      "3 5 5.\n",
      "3 3 5...\n",
      "3 5 5.\n",
      "3 5 5.\n",
      "3 4 5..\n",
      "3 3 5...\n",
      "3 4 5..\n",
      "3 4 5..\n",
      "3 3 3.........\n",
      "3 3 4......\n",
      "3 3 4......\n",
      "4 4 5..\n",
      "4 4 5..\n",
      "4 5 5.\n",
      "4 4 5..\n",
      "4 4 5..\n",
      "4 3 3.........\n",
      "4 4 4....\n",
      "4 4 4....\n",
      "4 5 5.\n",
      "4 4 5..\n",
      "4 3 4......\n",
      "5 4 5..\n",
      "5 4 5..\n",
      "5 3 5...\n",
      "5 3 5...\n",
      "5 4 5..\n",
      "5 5 5.\n",
      "5 2 4........\n",
      "5 3 4......\n",
      "5 3 3.........\n",
      "5 3 4......\n",
      "5 3 4......\n",
      "5 4 4....\n",
      "6 3 5...\n",
      "6 3 5...\n",
      "6 3 3.........\n",
      "6 3 5...\n",
      "6 2 4........\n",
      "6 3 4......\n",
      "6 3 4......\n",
      "6 3 4......\n",
      "6 4 4....\n",
      "7 3 4......\n",
      "7 4 5..\n",
      "7 5 5.\n",
      "7 5 5.\n",
      "7 3 4......\n",
      "7 3 3.........\n",
      "7 4 4....\n",
      "7 5 5.\n",
      "7 5 5.\n",
      "8 3 4......\n",
      "8 3 4......\n",
      "8 3 4......\n",
      "8 3 3.........\n",
      "8 4 4....\n",
      "8 4 4....\n",
      "8 5 5.\n",
      "8 5 5.\n",
      "8 5 5.\n",
      "8 3 5...\n",
      "8 4 5..\n",
      "8 5 5.\n",
      "9 5 5.\n",
      "9 5 5.\n",
      "9 3 5...\n",
      "9 3 5...\n",
      "9 3 4......\n",
      "9 3 3.........\n",
      "9 4 4....\n",
      "9 3 4......\n",
      "9 3 4......\n",
      "9 3 4......\n"
     ]
    }
   ],
   "source": [
    "WIDTH = 5\n",
    "HEIGHT = 5\n",
    "\n",
    "with open(\"data.txt\") as f:\n",
    "    t = f.read()\n",
    "\n",
    "xs = []\n",
    "ys = []\n",
    "\n",
    "for ex in t.split(\"\\n\\n\"):\n",
    "    lines = ex.split(\"\\n\")\n",
    "    y  = int(lines[0])\n",
    "    x = np.array([[0 if x == \".\" else 1 for x in line] for line in lines[1:]])\n",
    "    \n",
    "    ex_width = np.max(np.arange(1, WIDTH + 1) * x)\n",
    "    ex_height = np.max((np.arange(1, HEIGHT + 1) * x.T).T)\n",
    "    print(y, ex_width, ex_height, end=\"\")\n",
    "    for offset_x, offset_y in itertools.product(range(WIDTH - ex_width + 1),\n",
    "                                                range(HEIGHT - ex_height + 1)):\n",
    "        xs.append(np.roll(x, (offset_y, offset_x), axis=(0, 1)))\n",
    "        ys.append(y)\n",
    "        print(\".\", end=\"\")\n",
    "    print()\n",
    "\n",
    "xs = np.array(xs).astype(float)[..., np.newaxis]\n",
    "ys = np.array(ys)"
   ]
  },
  {
   "cell_type": "code",
   "execution_count": 4,
   "metadata": {},
   "outputs": [
    {
     "data": {
      "text/plain": [
       "1    74\n",
       "0    56\n",
       "5    52\n",
       "3    51\n",
       "6    48\n",
       "9    45\n",
       "8    44\n",
       "2    40\n",
       "4    35\n",
       "7    31\n",
       "dtype: int64"
      ]
     },
     "execution_count": 4,
     "metadata": {},
     "output_type": "execute_result"
    }
   ],
   "source": [
    "pd.Series(ys).value_counts()"
   ]
  },
  {
   "cell_type": "code",
   "execution_count": 5,
   "metadata": {},
   "outputs": [
    {
     "name": "stdout",
     "output_type": "stream",
     "text": [
      "2\n",
      "[[0 1 1 1 0]\n",
      " [0 0 1 1 0]\n",
      " [0 1 0 0 0]\n",
      " [0 1 1 1 0]\n",
      " [0 0 0 0 0]]\n"
     ]
    }
   ],
   "source": [
    "i = np.random.randint(0, len(ys))\n",
    "print(ys[i])\n",
    "print(xs[i,:,:,0].astype(int))"
   ]
  },
  {
   "cell_type": "code",
   "execution_count": 6,
   "metadata": {},
   "outputs": [],
   "source": [
    "def random_flip(x: np.ndarray, xs_strings: np.ndarray):\n",
    "    while True:\n",
    "        x_new = x.copy()\n",
    "        pos_y = np.random.randint(0, HEIGHT)\n",
    "        pos_x = np.random.randint(0, WIDTH)\n",
    "        x_new[pos_y, pos_x] = 1 - x_new[pos_y, pos_x]\n",
    "        if x_new.tostring() not in xs_strings:\n",
    "            return x_new"
   ]
  },
  {
   "cell_type": "code",
   "execution_count": 7,
   "metadata": {},
   "outputs": [],
   "source": [
    "xs_strings = {x.tostring() for x in xs}"
   ]
  },
  {
   "cell_type": "code",
   "execution_count": 200,
   "metadata": {},
   "outputs": [],
   "source": [
    "BATCH_SIZE = 128\n",
    "\n",
    "ds = tf.data.Dataset.zip((\n",
    "    tf.data.Dataset.from_tensor_slices(xs),\n",
    "    tf.data.Dataset.from_tensor_slices(ys)\n",
    ")).shuffle(buffer_size=len(ys)).repeat()\n",
    "\n",
    "def augment(x) -> np.ndarray:\n",
    "    if np.random.uniform() > 0.5:\n",
    "        x = random_flip(x, xs_strings)\n",
    "    if np.random.uniform() > 0.85:\n",
    "        x = random_flip(x, xs_strings)\n",
    "    if np.random.uniform() > 0.95:\n",
    "        x = random_flip(x, xs_strings)\n",
    "    \n",
    "    return x\n",
    "    \n",
    "\n",
    "def map_fn(x, y):\n",
    "    x = tf.numpy_function(func=augment , inp=[x], Tout=tf.float64)\n",
    "    x.set_shape([HEIGHT, WIDTH, 1])\n",
    "    return x, y\n",
    "\n",
    "ds = ds.map(map_fn)\n",
    "ds = ds.batch(BATCH_SIZE)\n"
   ]
  },
  {
   "cell_type": "code",
   "execution_count": 201,
   "metadata": {},
   "outputs": [],
   "source": [
    "model = tf.keras.Sequential([\n",
    "    tf.keras.layers.Conv2D(4, 2, activation=\"relu\", padding=\"valid\", input_shape=(WIDTH, HEIGHT, 1)),\n",
    "    tf.keras.layers.Conv2D(8, 2,  activation=\"relu\"),\n",
    "    tf.keras.layers.Conv2D(16, 2,  activation=\"relu\"),\n",
    "    tf.keras.layers.GlobalMaxPooling2D(),\n",
    "    tf.keras.layers.Dense(10, activation=tf.keras.activations.softmax)\n",
    "])"
   ]
  },
  {
   "cell_type": "code",
   "execution_count": 202,
   "metadata": {},
   "outputs": [
    {
     "data": {
      "text/plain": [
       "854"
      ]
     },
     "execution_count": 202,
     "metadata": {},
     "output_type": "execute_result"
    }
   ],
   "source": [
    "sum(np.product(x.shape) for x in model.weights)"
   ]
  },
  {
   "cell_type": "code",
   "execution_count": 203,
   "metadata": {},
   "outputs": [],
   "source": [
    "model.compile(optimizer=tf.keras.optimizers.Adam(learning_rate=0.0025), metrics=[\"accuracy\"], loss=tf.keras.losses.sparse_categorical_crossentropy)"
   ]
  },
  {
   "cell_type": "code",
   "execution_count": 204,
   "metadata": {},
   "outputs": [
    {
     "name": "stdout",
     "output_type": "stream",
     "text": [
      "[0.8197203388735026, 0.75840336]\n",
      "[0.4181634628472208, 0.9117647]\n",
      "[0.2612211801925627, 0.960084]\n",
      "[0.19645728584097213, 0.9747899]\n",
      "[0.16659380032234833, 0.9747899]\n",
      "[0.151550394396822, 0.97899157]\n",
      "[0.1213485473344306, 0.9873949]\n",
      "[0.11772868563147153, 0.9852941]\n",
      "[0.11513295431597893, 0.9831933]\n",
      "[0.0985428471775616, 0.9873949]\n",
      "[0.09250037015235725, 0.9873949]\n",
      "[0.088900471184434, 0.9852941]\n",
      "[0.09327769298262957, 0.9873949]\n",
      "[0.09198501180200015, 0.9852941]\n",
      "[0.08361439851402235, 0.9894958]\n",
      "[0.08341239946855217, 0.9873949]\n",
      "[0.07687666010455925, 0.9873949]\n",
      "[0.07252179812483427, 0.99369746]\n",
      "[0.07710030493365616, 0.9894958]\n",
      "[0.07276230292911288, 0.9894958]\n",
      "[0.06548057546635636, 0.9957983]\n",
      "[0.0631654715525503, 0.9978992]\n",
      "[0.0638414748451289, 0.99369746]\n",
      "[0.05760382053230991, 0.9978992]\n",
      "[0.0596880310316797, 0.9957983]\n",
      "[0.05717225109829622, 1.0]\n",
      "[0.0561420563608408, 1.0]\n",
      "[0.05707980100722874, 0.9957983]\n",
      "[0.0640675507861526, 0.99369746]\n",
      "[0.053491534540007095, 0.9957983]\n",
      "[0.05317273634258939, 0.9957983]\n",
      "[0.05755698530613875, 1.0]\n",
      "[0.05599404949726177, 0.9978992]\n",
      "[0.05409970031190319, 0.9978992]\n",
      "[0.05117206338073025, 1.0]\n",
      "[0.0623042332399793, 0.99369746]\n",
      "[0.04972850791170817, 0.9978992]\n",
      "[0.04793603701063064, 0.9978992]\n",
      "[0.049665190717753244, 0.9957983]\n",
      "[0.04454863606756475, 1.0]\n",
      "[0.051272496737602376, 1.0]\n",
      "[0.04710893185824907, 0.99369746]\n",
      "[0.047290676218621874, 1.0]\n",
      "[0.052935644765110576, 0.9957983]\n",
      "[0.044965493641480676, 1.0]\n",
      "[0.046298098319969255, 0.9978992]\n",
      "[0.05065228016812261, 0.9978992]\n",
      "[0.047170879084522985, 0.9978992]\n",
      "[0.04492057797287693, 0.9978992]\n",
      "[0.0437145090403677, 1.0]\n"
     ]
    }
   ],
   "source": [
    "for i in range(50):\n",
    "    model.fit(ds, epochs=100, verbose=0, steps_per_epoch=len(ys) // BATCH_SIZE)\n",
    "    print(model.evaluate(xs, ys, verbose=0))"
   ]
  },
  {
   "cell_type": "code",
   "execution_count": 189,
   "metadata": {},
   "outputs": [
    {
     "data": {
      "text/plain": [
       "<tf.Variable 'UnreadVariable' shape=() dtype=float32, numpy=0.00025>"
      ]
     },
     "execution_count": 189,
     "metadata": {},
     "output_type": "execute_result"
    }
   ],
   "source": [
    "model.optimizer.learning_rate.assign(0.00025)"
   ]
  },
  {
   "cell_type": "code",
   "execution_count": 199,
   "metadata": {},
   "outputs": [
    {
     "name": "stdout",
     "output_type": "stream",
     "text": [
      "3/3 [==============================] - 0s 18ms/step - loss: 0.3958 - accuracy: 0.8672\n"
     ]
    },
    {
     "data": {
      "text/plain": [
       "[0.3958042462666829, 0.8671875]"
      ]
     },
     "execution_count": 199,
     "metadata": {},
     "output_type": "execute_result"
    }
   ],
   "source": [
    "model.evaluate(ds, steps=len(ys) // BATCH_SIZE)"
   ]
  },
  {
   "cell_type": "code",
   "execution_count": 134,
   "metadata": {},
   "outputs": [
    {
     "name": "stdout",
     "output_type": "stream",
     "text": [
      "[0.03486493881009206, 1.0]\n"
     ]
    }
   ],
   "source": [
    "model.fit(ds, epochs=100, verbose=0, steps_per_epoch=len(ys) // BATCH_SIZE)\n",
    "print(model.evaluate(xs, ys, verbose=0))"
   ]
  },
  {
   "cell_type": "code",
   "execution_count": 178,
   "metadata": {},
   "outputs": [
    {
     "name": "stdout",
     "output_type": "stream",
     "text": [
      "WARNING:tensorflow:From c:\\users\\kling\\cv_homework\\cv_venv\\lib\\site-packages\\tensorflow_core\\python\\ops\\resource_variable_ops.py:1781: calling BaseResourceVariable.__init__ (from tensorflow.python.ops.resource_variable_ops) with constraint is deprecated and will be removed in a future version.\n",
      "Instructions for updating:\n",
      "If using Keras pass *_constraint arguments to layers.\n",
      "INFO:tensorflow:Assets written to: 5x5_4-8-16_filters.savedmodel\\assets\n"
     ]
    }
   ],
   "source": [
    "model.save(\"5x5_4-8-16_filters.savedmodel\")"
   ]
  },
  {
   "cell_type": "code",
   "execution_count": 176,
   "metadata": {},
   "outputs": [
    {
     "name": "stdout",
     "output_type": "stream",
     "text": [
      "Model: \"sequential_10\"\n",
      "_________________________________________________________________\n",
      "Layer (type)                 Output Shape              Param #   \n",
      "=================================================================\n",
      "conv2d_30 (Conv2D)           (None, 4, 4, 4)           20        \n",
      "_________________________________________________________________\n",
      "conv2d_31 (Conv2D)           (None, 3, 3, 8)           136       \n",
      "_________________________________________________________________\n",
      "conv2d_32 (Conv2D)           (None, 2, 2, 16)          528       \n",
      "_________________________________________________________________\n",
      "global_max_pooling2d_9 (Glob (None, 16)                0         \n",
      "_________________________________________________________________\n",
      "dense_11 (Dense)             (None, 10)                170       \n",
      "=================================================================\n",
      "Total params: 854\n",
      "Trainable params: 854\n",
      "Non-trainable params: 0\n",
      "_________________________________________________________________\n"
     ]
    }
   ],
   "source": [
    "model.summary()"
   ]
  },
  {
   "cell_type": "code",
   "execution_count": 154,
   "metadata": {},
   "outputs": [],
   "source": [
    "x = np.array([\n",
    "    [0,1,0,0,1],\n",
    "    [1,0,1,0,0],\n",
    "    [1,1,1,0,0],\n",
    "    [1,0,1,0,1],\n",
    "    [1,1,1,0,0]\n",
    "]).astype(np.float32)[np.newaxis, ...,np.newaxis]"
   ]
  },
  {
   "cell_type": "code",
   "execution_count": 155,
   "metadata": {},
   "outputs": [
    {
     "data": {
      "text/plain": [
       "<tf.Tensor: id=1652252, shape=(1, 10), dtype=float32, numpy=\n",
       "array([[5.0382297e-02, 5.8336311e-04, 6.4316679e-05, 1.6228270e-04,\n",
       "        4.1688479e-02, 4.3368284e-04, 1.5032527e-01, 3.4792183e-08,\n",
       "        7.4994230e-01, 6.4179059e-03]], dtype=float32)>"
      ]
     },
     "execution_count": 155,
     "metadata": {},
     "output_type": "execute_result"
    }
   ],
   "source": [
    "model(x)"
   ]
  },
  {
   "cell_type": "code",
   "execution_count": 159,
   "metadata": {},
   "outputs": [
    {
     "data": {
      "text/plain": [
       "[<tensorflow.python.keras.layers.convolutional.Conv2D at 0x1cc3f8ade48>,\n",
       " <tensorflow.python.keras.layers.convolutional.Conv2D at 0x1cc45f267c8>,\n",
       " <tensorflow.python.keras.layers.convolutional.Conv2D at 0x1cc45fcc4c8>,\n",
       " <tensorflow.python.keras.layers.pooling.GlobalMaxPooling2D at 0x1cc4232be88>,\n",
       " <tensorflow.python.keras.layers.core.Dense at 0x1cc337f91c8>]"
      ]
     },
     "execution_count": 159,
     "metadata": {},
     "output_type": "execute_result"
    }
   ],
   "source": [
    "model.layers"
   ]
  },
  {
   "cell_type": "code",
   "execution_count": 160,
   "metadata": {},
   "outputs": [
    {
     "data": {
      "text/plain": [
       "<tf.Tensor: id=1652306, shape=(1, 4, 4, 4), dtype=float32, numpy=\n",
       "array([[[[0.502618  , 0.        , 1.8023715 , 1.917316  ],\n",
       "         [0.79793376, 1.7102393 , 1.1851742 , 0.        ],\n",
       "         [0.        , 0.05212986, 1.5669594 , 0.9467094 ],\n",
       "         [1.0418813 , 0.        , 0.14185338, 1.5535313 ]],\n",
       "\n",
       "        [[0.2586705 , 2.0726733 , 2.8456922 , 0.        ],\n",
       "         [1.3053567 , 0.        , 3.1330698 , 1.6224971 ],\n",
       "         [0.        , 1.9718777 , 1.5149939 , 0.        ],\n",
       "         [0.        , 0.        , 0.        , 0.5829247 ]],\n",
       "\n",
       "        [[1.3856957 , 0.5628624 , 1.750406  , 0.61326325],\n",
       "         [2.7276978 , 0.30122414, 1.4205863 , 0.        ],\n",
       "         [0.        , 1.9718777 , 1.5149939 , 0.        ],\n",
       "         [0.        , 0.        , 1.2371397 , 0.28810582]],\n",
       "\n",
       "        [[0.2586705 , 2.0726733 , 2.8456922 , 0.        ],\n",
       "         [1.3053567 , 0.        , 3.1330698 , 1.6224971 ],\n",
       "         [0.        , 1.9718777 , 1.5149939 , 0.        ],\n",
       "         [1.0418813 , 0.        , 0.14185338, 1.5535313 ]]]],\n",
       "      dtype=float32)>"
      ]
     },
     "execution_count": 160,
     "metadata": {},
     "output_type": "execute_result"
    }
   ],
   "source": [
    "model.layers[0](x)"
   ]
  },
  {
   "cell_type": "code",
   "execution_count": 161,
   "metadata": {},
   "outputs": [
    {
     "data": {
      "text/plain": [
       "<tf.Tensor: id=1652317, shape=(1, 3, 3, 8), dtype=float32, numpy=\n",
       "array([[[[0.        , 0.        , 2.8644028 , 4.9411073 , 1.0166321 ,\n",
       "          0.        , 7.4212365 , 0.        ],\n",
       "         [0.        , 0.        , 0.        , 2.1408947 , 1.722722  ,\n",
       "          2.4579952 , 2.9874277 , 0.        ],\n",
       "         [0.17738095, 0.        , 0.        , 3.4742367 , 1.04086   ,\n",
       "          0.        , 2.5325642 , 1.6461351 ]],\n",
       "\n",
       "        [[3.1199167 , 1.1816763 , 2.1424901 , 4.731507  , 0.        ,\n",
       "          0.04994825, 7.7961545 , 1.6499076 ],\n",
       "         [1.5423524 , 2.1515965 , 0.        , 1.7521011 , 0.        ,\n",
       "          0.        , 3.4096007 , 0.        ],\n",
       "         [0.        , 0.        , 0.        , 6.185231  , 3.4537354 ,\n",
       "          0.        , 1.4450966 , 0.6039964 ]],\n",
       "\n",
       "        [[1.1266732 , 0.        , 6.0501323 , 3.9511342 , 2.397085  ,\n",
       "          0.        , 9.643051  , 0.9603061 ],\n",
       "         [0.        , 0.        , 0.        , 0.        , 0.5012328 ,\n",
       "          1.7871604 , 4.2222834 , 0.        ],\n",
       "         [0.7063606 , 0.        , 0.        , 5.6022677 , 0.7937625 ,\n",
       "          0.        , 1.0493456 , 1.0945044 ]]]], dtype=float32)>"
      ]
     },
     "execution_count": 161,
     "metadata": {},
     "output_type": "execute_result"
    }
   ],
   "source": [
    "model.layers[1](model.layers[0](x))"
   ]
  },
  {
   "cell_type": "code",
   "execution_count": 162,
   "metadata": {},
   "outputs": [
    {
     "data": {
      "text/plain": [
       "<tf.Tensor: id=1652333, shape=(1, 2, 2, 16), dtype=float32, numpy=\n",
       "array([[[[11.998928  ,  2.5019045 ,  0.        ,  6.808212  ,\n",
       "           0.        ,  2.2446918 ,  0.93934906,  3.123773  ,\n",
       "           8.206035  ,  6.8971405 ,  0.        ,  0.        ,\n",
       "           7.5184255 ,  0.        ,  0.        ,  6.0454826 ],\n",
       "         [ 0.        ,  0.        ,  0.        ,  1.0777555 ,\n",
       "           0.        ,  2.9489107 ,  0.        ,  0.        ,\n",
       "           3.60769   ,  2.024139  ,  0.        ,  0.        ,\n",
       "           0.06610802,  0.        ,  2.014959  ,  0.        ]],\n",
       "\n",
       "        [[ 9.626691  ,  0.        ,  3.5938735 ,  9.217345  ,\n",
       "           1.207052  ,  2.0163736 ,  0.        ,  3.8219762 ,\n",
       "           9.965364  ,  9.481217  ,  0.        ,  0.52649593,\n",
       "           8.964781  ,  0.        ,  0.        ,  5.3964696 ],\n",
       "         [ 0.        ,  0.        ,  2.0928776 ,  1.2926772 ,\n",
       "           0.        ,  3.5164688 ,  0.        ,  0.        ,\n",
       "           3.853125  ,  0.27899772,  0.        ,  0.        ,\n",
       "           0.81779146,  0.32882565,  3.568447  ,  4.083803  ]]]],\n",
       "      dtype=float32)>"
      ]
     },
     "execution_count": 162,
     "metadata": {},
     "output_type": "execute_result"
    }
   ],
   "source": [
    "model.layers[2](model.layers[1](model.layers[0](x)))"
   ]
  },
  {
   "cell_type": "code",
   "execution_count": 163,
   "metadata": {},
   "outputs": [
    {
     "data": {
      "text/plain": [
       "<tf.Tensor: id=1652351, shape=(1, 16), dtype=float32, numpy=\n",
       "array([[11.998928  ,  2.5019045 ,  3.5938735 ,  9.217345  ,  1.207052  ,\n",
       "         3.5164688 ,  0.93934906,  3.8219762 ,  9.965364  ,  9.481217  ,\n",
       "         0.        ,  0.52649593,  8.964781  ,  0.32882565,  3.568447  ,\n",
       "         6.0454826 ]], dtype=float32)>"
      ]
     },
     "execution_count": 163,
     "metadata": {},
     "output_type": "execute_result"
    }
   ],
   "source": [
    "model.layers[3](model.layers[2](model.layers[1](model.layers[0](x))))"
   ]
  }
 ],
 "metadata": {
  "kernelspec": {
   "display_name": "Python 3",
   "language": "python",
   "name": "python3"
  },
  "language_info": {
   "codemirror_mode": {
    "name": "ipython",
    "version": 3
   },
   "file_extension": ".py",
   "mimetype": "text/x-python",
   "name": "python",
   "nbconvert_exporter": "python",
   "pygments_lexer": "ipython3",
   "version": "3.7.6"
  }
 },
 "nbformat": 4,
 "nbformat_minor": 4
}
