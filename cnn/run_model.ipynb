{
 "cells": [
  {
   "cell_type": "markdown",
   "metadata": {},
   "source": [
    "Notebook to run the model using pure python.\n",
    "\n",
    "Template for the C implementation of the model."
   ]
  },
  {
   "cell_type": "code",
   "execution_count": 1,
   "metadata": {},
   "outputs": [],
   "source": [
    "from typing import Iterable, Dict\n",
    "\n",
    "import numpy as np"
   ]
  },
  {
   "cell_type": "code",
   "execution_count": 2,
   "metadata": {},
   "outputs": [],
   "source": [
    "weights = {}"
   ]
  },
  {
   "cell_type": "code",
   "execution_count": 3,
   "metadata": {},
   "outputs": [],
   "source": [
    "for i in range(3):\n",
    "    base_name = f\"weights/conv{i}_{{}}.npy\"\n",
    "    weights[f\"conv{i}_kernel\"] = np.load(base_name.format(\"kernel\"))\n",
    "    weights[f\"conv{i}_bias\"] = np.load(base_name.format(\"bias\"))\n",
    "    \n",
    "weights[\"dense_kernel\"] = np.load(\"weights/dense_kernel.npy\")\n",
    "weights[\"dense_bias\"] = np.load(\"weights/dense_bias.npy\")"
   ]
  },
  {
   "cell_type": "code",
   "execution_count": 4,
   "metadata": {},
   "outputs": [],
   "source": [
    "def apply_2x2_conv_kernel(x: np.ndarray, kernel: np.ndarray) -> np.ndarray:\n",
    "    # we only need 2x2, no padding :D\n",
    "    out_rows = x.shape[0] - 1\n",
    "    out_cols = x.shape[1] - 1\n",
    "    out = np.zeros((out_rows, out_cols))\n",
    "    \n",
    "    for row in range(out_rows):\n",
    "        for col in range(out_cols):\n",
    "            sliding_window = x[row:row+2, col:col+2, :]\n",
    "            out[row, col] = (sliding_window * kernel).sum()\n",
    "    return out\n",
    "\n",
    "\n",
    "def apply_2x2_conv_kernels(x: np.ndarray, kernels: np.ndarray) -> np.ndarray:\n",
    "    # we only need 2x2, no padding :D\n",
    "    out_rows = x.shape[0] - 1\n",
    "    out_cols = x.shape[1] - 1\n",
    "    out = np.zeros((out_rows, out_cols, kernels.shape[-1]))\n",
    "    \n",
    "    for row in range(out_rows):\n",
    "        for col in range(out_cols):\n",
    "            sliding_window = x[row:row+2, col:col+2, :]\n",
    "            out[row, col, :] = (sliding_window[...,np.newaxis] * kernels).sum(axis=(0,1,2))\n",
    "    return out\n",
    "\n",
    "            \n",
    "def apply_full_2x2_conv_layer(x: np.ndarray, kernel: np.ndarray,\n",
    "                              bias: np.ndarray) -> np.ndarray:\n",
    "    #convolved = np.stack(\n",
    "    #    [apply_2x2_conv_kernel(x, kernel[...,i]) \n",
    "    #     for i in range(kernel.shape[-1])],\n",
    "    #    axis=-1\n",
    "    #)\n",
    "    convolved = apply_2x2_conv_kernels(x, kernel)\n",
    "    with_bias = convolved + bias\n",
    "    \n",
    "    # apply relu\n",
    "    return np.maximum(with_bias, 0)\n",
    "\n",
    "\n",
    "def apply_conv_layer_stack(x: np.ndarray, kernels: Iterable[np.ndarray],\n",
    "                           biases: Iterable[np.ndarray]) -> np.ndarray:\n",
    "    for kernel, bias in zip(kernels, biases):\n",
    "        x = apply_full_2x2_conv_layer(x, kernel, bias)\n",
    "    return x\n",
    "\n",
    "\n",
    "def apply_max_pool(x: np.ndarray) -> np.ndarray:\n",
    "    return np.max(x, axis=(0,1))\n",
    "\n",
    "\n",
    "def softmax(x: np.ndarray) -> np.ndarray:\n",
    "    e = np.exp(x)\n",
    "    return e / e.sum()\n",
    "\n",
    "\n",
    "def apply_dense_output_layer(x: np.ndarray, kernel: np.ndarray,\n",
    "                             bias: np.ndarray) -> np.ndarray:\n",
    "    out = x@kernel + bias\n",
    "    return softmax(out)\n",
    "\n",
    "\n",
    "def apply_full_model(x: np.ndarray, weights: Dict[str, np.ndarray]):\n",
    "    x = apply_conv_layer_stack(\n",
    "        x,\n",
    "        [weights[f\"conv{i}_kernel\"] for i in range(3)],\n",
    "        [weights[f\"conv{i}_bias\"] for i in range(3)]\n",
    "    )\n",
    "    x = apply_max_pool(x)\n",
    "    x = apply_dense_output_layer(\n",
    "        x,\n",
    "        kernel=weights[\"dense_kernel\"],\n",
    "        bias=weights[\"dense_bias\"]\n",
    "    )\n",
    "    return x"
   ]
  },
  {
   "cell_type": "code",
   "execution_count": 5,
   "metadata": {},
   "outputs": [],
   "source": [
    "test_input = np.array([\n",
    "    [1,1,0,0,0],\n",
    "    [0,0,0,0,0],\n",
    "    [0,0,1,0,0],\n",
    "    [0,0,1,1,0],\n",
    "    [0,0,1,0,1]\n",
    "    ])[..., np.newaxis]"
   ]
  },
  {
   "cell_type": "code",
   "execution_count": 6,
   "metadata": {},
   "outputs": [
    {
     "data": {
      "text/plain": [
       "2.939501404762268"
      ]
     },
     "execution_count": 6,
     "metadata": {},
     "output_type": "execute_result"
    }
   ],
   "source": [
    "apply_2x2_conv_kernels(test_input, weights[\"conv0_kernel\"])[0,0,0]"
   ]
  },
  {
   "cell_type": "code",
   "execution_count": 7,
   "metadata": {},
   "outputs": [
    {
     "data": {
      "text/plain": [
       "0.9045984745025635"
      ]
     },
     "execution_count": 7,
     "metadata": {},
     "output_type": "execute_result"
    }
   ],
   "source": [
    "apply_2x2_conv_kernels(test_input, weights[\"conv0_kernel\"])[2,1,3]"
   ]
  },
  {
   "cell_type": "code",
   "execution_count": 8,
   "metadata": {},
   "outputs": [
    {
     "name": "stdout",
     "output_type": "stream",
     "text": [
      "2.86903178691864\n",
      "0.9044170095148729\n"
     ]
    }
   ],
   "source": [
    "res = apply_full_2x2_conv_layer(test_input, weights[\"conv0_kernel\"], weights[\"conv0_bias\"])\n",
    "print(res[0,0,0])\n",
    "print(res[2,1,3])"
   ]
  },
  {
   "cell_type": "code",
   "execution_count": 9,
   "metadata": {},
   "outputs": [
    {
     "data": {
      "text/plain": [
       "-1.3210745"
      ]
     },
     "execution_count": 9,
     "metadata": {},
     "output_type": "execute_result"
    }
   ],
   "source": [
    "weights[\"conv0_kernel\"][0,1,0,2]"
   ]
  },
  {
   "cell_type": "code",
   "execution_count": 10,
   "metadata": {},
   "outputs": [
    {
     "data": {
      "text/plain": [
       "array([ 1.5657663 ,  0.88373774, -1.2657819 , -0.68050164,  1.3737351 ,\n",
       "       -1.0296128 , -1.3210745 ,  0.36918926,  0.76399225,  1.5246062 ,\n",
       "       -0.77700794,  1.9321772 , -0.89375335, -0.785154  ,  0.58246917,\n",
       "        0.5354092 ], dtype=float32)"
      ]
     },
     "execution_count": 10,
     "metadata": {},
     "output_type": "execute_result"
    }
   ],
   "source": [
    "weights[\"conv0_kernel\"].flatten()"
   ]
  },
  {
   "cell_type": "code",
   "execution_count": 11,
   "metadata": {},
   "outputs": [
    {
     "data": {
      "text/plain": [
       "array([-7.0469618e-02,  2.3160256e-01,  6.1115247e-01, -1.8146499e-04],\n",
       "      dtype=float32)"
      ]
     },
     "execution_count": 11,
     "metadata": {},
     "output_type": "execute_result"
    }
   ],
   "source": [
    "weights[\"conv0_bias\"].flatten()"
   ]
  },
  {
   "cell_type": "code",
   "execution_count": 12,
   "metadata": {},
   "outputs": [
    {
     "data": {
      "text/plain": [
       "array([7.16413923e-03, 9.63031818e-01, 3.46890334e-03, 1.33830939e-03,\n",
       "       6.50285776e-03, 2.75586578e-03, 1.04178154e-02, 1.22738426e-03,\n",
       "       5.06467654e-04, 3.58643953e-03])"
      ]
     },
     "execution_count": 12,
     "metadata": {},
     "output_type": "execute_result"
    }
   ],
   "source": [
    "apply_full_model(\n",
    "    test_input,\n",
    "    weights\n",
    ")"
   ]
  }
 ],
 "metadata": {
  "kernelspec": {
   "display_name": "Python 3",
   "language": "python",
   "name": "python3"
  },
  "language_info": {
   "codemirror_mode": {
    "name": "ipython",
    "version": 3
   },
   "file_extension": ".py",
   "mimetype": "text/x-python",
   "name": "python",
   "nbconvert_exporter": "python",
   "pygments_lexer": "ipython3",
   "version": "3.7.6"
  }
 },
 "nbformat": 4,
 "nbformat_minor": 4
}
