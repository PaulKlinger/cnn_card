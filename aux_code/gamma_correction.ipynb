{
 "cells": [
  {
   "cell_type": "markdown",
   "metadata": {},
   "source": [
    "Adapted from https://learn.adafruit.com/led-tricks-gamma-correction"
   ]
  },
  {
   "cell_type": "code",
   "execution_count": 16,
   "metadata": {},
   "outputs": [
    {
     "name": "stdout",
     "output_type": "stream",
     "text": [
      "const uint8_t gamma[] = {\n",
      "  0,0,0,0,0,0,0,0,0,0,0,0,0,0,0,\n",
      "  0,0,0,0,0,0,0,0,1,1,1,1,1,1,1,\n",
      "  1,1,1,1,2,2,2,2,2,2,2,3,3,3,3,\n",
      "  3,4,4,4,4,5,5,5,5,6,6,6,7,7,7,\n",
      "  8,8,8,9,9,9,10,10,11,11,12,12,13,13,14,\n",
      "  14,15,15,16,16,17,17,18,19,19,20,21,21,22,23,\n",
      "  23,24,25,26,27,27,28,29,30,31,32,32,33,34,35,\n",
      "  36,37,38,39,40,41,42,43,44,46,47,48,49,50,51,\n",
      "  53,54,55,56,58,59,60,62,63 }\n"
     ]
    }
   ],
   "source": [
    "PWM_BITS = 6\n",
    "\n",
    "gamma   = 2.8 # Correction factor\n",
    "max_in  = 128 # Top end of INPUT range\n",
    "max_out = (1 << PWM_BITS) - 1 # Top end of OUTPUT range\n",
    " \n",
    "\n",
    "print(\"const uint8_t gamma[] = {\", end=\"\")\n",
    "for i in range(max_in + 1):\n",
    "    if i > 0:\n",
    "        print(',', end=\"\")\n",
    "    if (i % 15) == 0:\n",
    "        print(\"\\n  \", end=\"\")\n",
    "    print(\n",
    "        \"{:d}\".format(\n",
    "      int(((i / max_in)**gamma) * max_out + 0.5)),\n",
    "        end=\"\"\n",
    "         )\n",
    "\n",
    "print(\" }\")\n"
   ]
  }
 ],
 "metadata": {
  "kernelspec": {
   "display_name": "Python 3",
   "language": "python",
   "name": "python3"
  },
  "language_info": {
   "codemirror_mode": {
    "name": "ipython",
    "version": 3
   },
   "file_extension": ".py",
   "mimetype": "text/x-python",
   "name": "python",
   "nbconvert_exporter": "python",
   "pygments_lexer": "ipython3",
   "version": "3.7.6"
  }
 },
 "nbformat": 4,
 "nbformat_minor": 4
}
