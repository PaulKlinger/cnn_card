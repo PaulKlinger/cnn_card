{
 "cells": [
  {
   "cell_type": "markdown",
   "metadata": {},
   "source": [
    "Create code for startup animation (concentric pulse)"
   ]
  },
  {
   "cell_type": "code",
   "execution_count": 1,
   "metadata": {},
   "outputs": [],
   "source": [
    "from typing import Dict, Tuple, List\n",
    "from math import ceil"
   ]
  },
  {
   "cell_type": "markdown",
   "metadata": {},
   "source": [
    "## Define mapping from multiplex row / col to physical layout"
   ]
  },
  {
   "cell_type": "markdown",
   "metadata": {},
   "source": [
    "(Mapping from individual grids to global row col same as in model.c)"
   ]
  },
  {
   "cell_type": "code",
   "execution_count": 2,
   "metadata": {},
   "outputs": [],
   "source": [
    "led_rc_to_pos: Dict[Tuple[int, int], Tuple[float, float]] = {}"
   ]
  },
  {
   "cell_type": "code",
   "execution_count": 3,
   "metadata": {},
   "outputs": [],
   "source": [
    "# input\n",
    "for row in range(5):\n",
    "    for col in range(5):\n",
    "        led_rc_to_pos[(row, col)] = (col, row)"
   ]
  },
  {
   "cell_type": "code",
   "execution_count": 4,
   "metadata": {},
   "outputs": [],
   "source": [
    "# conv0\n",
    "conv0_rc_to_pos = lambda r,c: (5.67 + c * 0.66, 0.83 + r * 0.66)\n",
    "for i in range(15):\n",
    "    led_rc_to_pos[(i % 5, 5 + i // 5)] = conv0_rc_to_pos(i % 4, i // 4)\n",
    "led_rc_to_pos[(5, 0)] = conv0_rc_to_pos(3, 3)"
   ]
  },
  {
   "cell_type": "code",
   "execution_count": 5,
   "metadata": {},
   "outputs": [],
   "source": [
    "# conv1\n",
    "conv1_rc_to_pos = lambda r,c: (9 + c * 0.66, 1.5 + r * 0.66)\n",
    "for i in range(7):\n",
    "    led_rc_to_pos[(5, i + 1)] = conv1_rc_to_pos(i % 3, i // 3)\n",
    "led_rc_to_pos[(0, 8)] = conv1_rc_to_pos(1, 2)\n",
    "led_rc_to_pos[(1, 8)] = conv1_rc_to_pos(2, 2)"
   ]
  },
  {
   "cell_type": "code",
   "execution_count": 6,
   "metadata": {},
   "outputs": [],
   "source": [
    "# conv2\n",
    "conv2_rc_to_pos = lambda r,c: (11.8 + c * 0.66, 2.3 + r * 0.66)\n",
    "for i in range(4):\n",
    "    led_rc_to_pos[(2 + i, 8)] = conv2_rc_to_pos(i % 2, i //2)"
   ]
  },
  {
   "cell_type": "code",
   "execution_count": 7,
   "metadata": {},
   "outputs": [],
   "source": [
    "# pool\n",
    "for i in range(6):\n",
    "    led_rc_to_pos[(8, i + 3)] = (7 + i * 0.3, 4.5)\n",
    "    \n",
    "for i in range(9):\n",
    "    led_rc_to_pos[(6, i)] = (7 + (i + 6) * 0.3, 4.5)\n",
    "    \n",
    "led_rc_to_pos[(8, 2)] = (7 + 15 * 0.3, 4.5)"
   ]
  },
  {
   "cell_type": "code",
   "execution_count": 8,
   "metadata": {},
   "outputs": [],
   "source": [
    "# out\n",
    "led_rc_to_pos[(8, 1)] = (7.9, 5.5)\n",
    "for i in range(9):\n",
    "    led_rc_to_pos[(7, i)] = (7.9 + (i + 1) * 0.5, 5.5)"
   ]
  },
  {
   "cell_type": "markdown",
   "metadata": {},
   "source": [
    "## Calculate distances to central point and bin LEDs into animation groups\n",
    "\n",
    "Each group will have the same brightness for each frame"
   ]
  },
  {
   "cell_type": "code",
   "execution_count": 9,
   "metadata": {},
   "outputs": [],
   "source": [
    "def dist(x: Tuple[float, float], y: Tuple[float, float]) -> float:\n",
    "    return ((x[0] - y[0])**2 + (x[1] - y[1])**2)**0.5"
   ]
  },
  {
   "cell_type": "code",
   "execution_count": 10,
   "metadata": {},
   "outputs": [],
   "source": [
    "center = (13,7.67) # bottom left\n",
    "center = (3.8 / 0.6, 2.7 / 0.6) # center\n",
    "max_dist = max(dist(center, x) for x in led_rc_to_pos.values())\n",
    "anim_steps = ceil(max_dist) * 2\n",
    "\n",
    "dist_leds: List[List[Tuple[int, int]]] = [[] for i in range(anim_steps + 1)]\n",
    "for rc, pos in led_rc_to_pos.items():\n",
    "    r = int(round(dist(pos, center) / max_dist * anim_steps))\n",
    "    dist_leds[r].append(rc)"
   ]
  },
  {
   "cell_type": "code",
   "execution_count": 11,
   "metadata": {},
   "outputs": [
    {
     "data": {
      "text/plain": [
       "16"
      ]
     },
     "execution_count": 11,
     "metadata": {},
     "output_type": "execute_result"
    }
   ],
   "source": [
    "anim_steps"
   ]
  },
  {
   "cell_type": "markdown",
   "metadata": {},
   "source": [
    "## Print C code\n",
    "Copy this into startup_anim.c (where indicated by comment)."
   ]
  },
  {
   "cell_type": "code",
   "execution_count": null,
   "metadata": {},
   "outputs": [],
   "source": [
    "c = 0\n",
    "for i, d_leds in enumerate(dist_leds):\n",
    "    if d_leds:\n",
    "        print(f\"pwm_val = brightness_sequence[(i + {len(dist_leds) - i - 1}) % sizeof(brightness_sequence)];\")\n",
    "        for row, col in d_leds:\n",
    "            print(f\"set_led_brightness({row}, {col}, pwm_val);\")\n",
    "            if c % 25 == 0:\n",
    "                print(\"run_pwm_cycle();\")\n",
    "            c += 1"
   ]
  }
 ],
 "metadata": {
  "kernelspec": {
   "display_name": "Python 3",
   "language": "python",
   "name": "python3"
  },
  "language_info": {
   "codemirror_mode": {
    "name": "ipython",
    "version": 3
   },
   "file_extension": ".py",
   "mimetype": "text/x-python",
   "name": "python",
   "nbconvert_exporter": "python",
   "pygments_lexer": "ipython3",
   "version": "3.7.6"
  }
 },
 "nbformat": 4,
 "nbformat_minor": 4
}
