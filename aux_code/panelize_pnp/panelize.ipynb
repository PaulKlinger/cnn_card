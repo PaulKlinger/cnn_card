{
 "cells": [
  {
   "cell_type": "code",
   "execution_count": 1,
   "metadata": {},
   "outputs": [],
   "source": [
    "%load_ext autoreload\n",
    "%autoreload 2"
   ]
  },
  {
   "cell_type": "code",
   "execution_count": 2,
   "metadata": {},
   "outputs": [],
   "source": [
    "import numpy as np\n",
    "import pandas as pd\n",
    "import cv2"
   ]
  },
  {
   "cell_type": "code",
   "execution_count": 3,
   "metadata": {},
   "outputs": [],
   "source": [
    "from panelize import mark_components, panelize"
   ]
  },
  {
   "cell_type": "code",
   "execution_count": 4,
   "metadata": {},
   "outputs": [],
   "source": [
    "BOARD_WIDTH = 85.6\n",
    "BOARD_HEIGHT = 54\n",
    "SPACING = 4.0\n",
    "N_ROWS = 2\n",
    "N_COLS = 2\n",
    "EDGE_RAIL_HEIGHT = 5.0\n",
    "\n",
    "INCH_TO_MM = 25.4"
   ]
  },
  {
   "cell_type": "code",
   "execution_count": 5,
   "metadata": {},
   "outputs": [],
   "source": [
    "front_img = cv2.imread(\"paneltopgerbv fit.png\").astype(np.float32)\n",
    "panel_width = 175.2\n",
    "pixel_width = panel_width / front_img.shape[1]"
   ]
  },
  {
   "cell_type": "markdown",
   "metadata": {},
   "source": [
    "### Load PnP file"
   ]
  },
  {
   "cell_type": "markdown",
   "metadata": {},
   "source": [
    "Exported using \"centroids-screamingcircuits-smd\" ULP in Fusion/Eagle."
   ]
  },
  {
   "cell_type": "code",
   "execution_count": 6,
   "metadata": {},
   "outputs": [],
   "source": [
    "pnp_fusion = pd.read_csv(\"pcb v55_centroid.csv\", skiprows=7)\n",
    "pnp_fusion = pnp_fusion.query(\"Layer == 'Top'\")\n",
    "\n",
    "pnp_fusion[\"LocationX\"] = pnp_fusion[\"LocationX\"] * INCH_TO_MM\n",
    "pnp_fusion[\"LocationY\"] = pnp_fusion[\"LocationY\"] * INCH_TO_MM\n",
    "\n",
    "pnp_fusion.rename(columns={\"RefDes\": \"Designator\", \"LocationX\": \"Mid X\", \"LocationY\": \"Mid Y\"}, inplace=True)"
   ]
  },
  {
   "cell_type": "markdown",
   "metadata": {},
   "source": [
    "### Correct LED orientation (opposite of JLCPCB standard)"
   ]
  },
  {
   "cell_type": "code",
   "execution_count": 7,
   "metadata": {},
   "outputs": [],
   "source": [
    "led_mask = pnp_fusion[\"Designator\"].str.startswith(\"D\")\n",
    "flip_rotation = lambda r: (r + 180) % 360\n",
    "pnp_fusion.loc[led_mask, \"Rotation\"] = pnp_fusion.loc[led_mask, \"Rotation\"].map(flip_rotation)"
   ]
  },
  {
   "cell_type": "markdown",
   "metadata": {},
   "source": [
    "### Load BOM"
   ]
  },
  {
   "cell_type": "code",
   "execution_count": 8,
   "metadata": {},
   "outputs": [],
   "source": [
    "bom = pd.read_csv(\"BOM_cnn_card_2020-11-28_19-21-05.csv\", sep=\"\\t\")"
   ]
  },
  {
   "cell_type": "markdown",
   "metadata": {},
   "source": [
    "### Panelize"
   ]
  },
  {
   "cell_type": "code",
   "execution_count": 9,
   "metadata": {},
   "outputs": [],
   "source": [
    "pnp_panel, bom_panel = panelize(\n",
    "    pnp_fusion,\n",
    "    bom,\n",
    "    board_width=BOARD_WIDTH,\n",
    "    board_height=BOARD_HEIGHT,\n",
    "    n_rows=N_ROWS,\n",
    "    n_cols=N_COLS,\n",
    "    spacing=SPACING,\n",
    "    bottom_margin=EDGE_RAIL_HEIGHT + SPACING\n",
    ")"
   ]
  },
  {
   "cell_type": "markdown",
   "metadata": {},
   "source": [
    "### Export image"
   ]
  },
  {
   "cell_type": "code",
   "execution_count": 10,
   "metadata": {},
   "outputs": [],
   "source": [
    "marked_img = mark_components(front_img, pnp_panel, pixel_width)"
   ]
  },
  {
   "cell_type": "code",
   "execution_count": 11,
   "metadata": {},
   "outputs": [
    {
     "data": {
      "text/plain": [
       "True"
      ]
     },
     "execution_count": 11,
     "metadata": {},
     "output_type": "execute_result"
    }
   ],
   "source": [
    "cv2.imwrite(\"panel_marked.png\", marked_img)"
   ]
  },
  {
   "cell_type": "markdown",
   "metadata": {},
   "source": [
    "### Save"
   ]
  },
  {
   "cell_type": "code",
   "execution_count": 12,
   "metadata": {},
   "outputs": [],
   "source": [
    "bom_panel.to_csv(\"cnn_card_panel_2x2_bom_top.csv\", index=None)"
   ]
  },
  {
   "cell_type": "markdown",
   "metadata": {},
   "source": [
    "Add \"mm\" suffix to positions"
   ]
  },
  {
   "cell_type": "code",
   "execution_count": 13,
   "metadata": {},
   "outputs": [],
   "source": [
    "pnp_panel[\"Mid X\"] = pnp_panel[\"Mid X\"].map(lambda x: str(x) + \"mm\")\n",
    "pnp_panel[\"Mid Y\"] = pnp_panel[\"Mid Y\"].map(lambda x: str(x) + \"mm\")"
   ]
  },
  {
   "cell_type": "code",
   "execution_count": 14,
   "metadata": {},
   "outputs": [],
   "source": [
    "pnp_panel.to_csv(\"cnn_card_panel_2x2_pnp_top.csv\", index=None)"
   ]
  },
  {
   "cell_type": "code",
   "execution_count": null,
   "metadata": {},
   "outputs": [],
   "source": []
  }
 ],
 "metadata": {
  "kernelspec": {
   "display_name": "Python 3",
   "language": "python",
   "name": "python3"
  },
  "language_info": {
   "codemirror_mode": {
    "name": "ipython",
    "version": 3
   },
   "file_extension": ".py",
   "mimetype": "text/x-python",
   "name": "python",
   "nbconvert_exporter": "python",
   "pygments_lexer": "ipython3",
   "version": "3.7.6"
  }
 },
 "nbformat": 4,
 "nbformat_minor": 4
}
